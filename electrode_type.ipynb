{
 "cells": [
  {
   "cell_type": "code",
   "execution_count": 1,
   "metadata": {},
   "outputs": [],
   "source": [
    "import pulse2percept as p2p\n",
    "import collections as coll\n",
    "from pulse2percept.implants import ElectrodeGrid, ProsthesisSystem, PointSource, ElectrodeArray\n",
    "from pulse2percept.implants import ArgusI\n",
    "import matplotlib.pyplot as plt\n",
    "%matplotlib inline"
   ]
  },
  {
   "cell_type": "code",
   "execution_count": 2,
   "metadata": {},
   "outputs": [],
   "source": [
    "EG1 = ElectrodeGrid((4,4),electrode_type = 'PointSource')"
   ]
  },
  {
   "cell_type": "code",
   "execution_count": 3,
   "metadata": {},
   "outputs": [
    {
     "data": {
      "text/plain": [
       "{'shape': (4, 4),\n",
       " 'x': 0,\n",
       " 'y': 0,\n",
       " 'z': 0,\n",
       " 'rot': 0,\n",
       " 'spacing': 20.0,\n",
       " 'name_cols': '1',\n",
       " 'name_rows': 'A'}"
      ]
     },
     "execution_count": 3,
     "metadata": {},
     "output_type": "execute_result"
    }
   ],
   "source": [
    "EG1.get_params()"
   ]
  },
  {
   "cell_type": "code",
   "execution_count": 7,
   "metadata": {},
   "outputs": [],
   "source": [
    "EG2 = ElectrodeGrid((3,3), electrode_type='DiskElectrode', electrode_kwargs={'r':10})"
   ]
  },
  {
   "cell_type": "code",
   "execution_count": 8,
   "metadata": {},
   "outputs": [
    {
     "data": {
      "text/plain": [
       "OrderedDict([('A1', DiskElectrode(r=10.0, x=-20.0, y=-20.0, z=0.0)),\n",
       "             ('A2', DiskElectrode(r=10.0, x=0.0, y=-20.0, z=0.0)),\n",
       "             ('A3', DiskElectrode(r=10.0, x=20.0, y=-20.0, z=0.0)),\n",
       "             ('B1', DiskElectrode(r=10.0, x=-20.0, y=0.0, z=0.0)),\n",
       "             ('B2', DiskElectrode(r=10.0, x=0.0, y=0.0, z=0.0)),\n",
       "             ('B3', DiskElectrode(r=10.0, x=20.0, y=0.0, z=0.0)),\n",
       "             ('C1', DiskElectrode(r=10.0, x=-20.0, y=20.0, z=0.0)),\n",
       "             ('C2', DiskElectrode(r=10.0, x=0.0, y=20.0, z=0.0)),\n",
       "             ('C3', DiskElectrode(r=10.0, x=20.0, y=20.0, z=0.0))])"
      ]
     },
     "execution_count": 8,
     "metadata": {},
     "output_type": "execute_result"
    }
   ],
   "source": [
    "EG2.electrodes"
   ]
  },
  {
   "cell_type": "code",
   "execution_count": 9,
   "metadata": {},
   "outputs": [
    {
     "data": {
      "text/plain": [
       "{'shape': (3, 3),\n",
       " 'x': 0,\n",
       " 'y': 0,\n",
       " 'z': 0,\n",
       " 'rot': 0,\n",
       " 'spacing': 20.0,\n",
       " 'name_cols': '1',\n",
       " 'name_rows': 'A',\n",
       " 'r': 10}"
      ]
     },
     "execution_count": 9,
     "metadata": {},
     "output_type": "execute_result"
    }
   ],
   "source": [
    "EG2.get_params()"
   ]
  },
  {
   "cell_type": "code",
   "execution_count": 10,
   "metadata": {},
   "outputs": [
    {
     "data": {
      "text/plain": [
       "{'shape': (4, 4),\n",
       " 'x': 0,\n",
       " 'y': 0,\n",
       " 'z': 0,\n",
       " 'rot': 0,\n",
       " 'spacing': 20.0,\n",
       " 'name_cols': '1',\n",
       " 'name_rows': 'A'}"
      ]
     },
     "execution_count": 10,
     "metadata": {},
     "output_type": "execute_result"
    }
   ],
   "source": [
    "EG1.get_params()"
   ]
  },
  {
   "cell_type": "code",
   "execution_count": null,
   "metadata": {},
   "outputs": [],
   "source": []
  }
 ],
 "metadata": {
  "kernelspec": {
   "display_name": "Python 3",
   "language": "python",
   "name": "python3"
  },
  "language_info": {
   "codemirror_mode": {
    "name": "ipython",
    "version": 3
   },
   "file_extension": ".py",
   "mimetype": "text/x-python",
   "name": "python",
   "nbconvert_exporter": "python",
   "pygments_lexer": "ipython3",
   "version": "3.7.0"
  }
 },
 "nbformat": 4,
 "nbformat_minor": 4
}
